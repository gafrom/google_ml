{
 "cells": [
  {
   "cell_type": "code",
   "execution_count": 52,
   "metadata": {
    "collapsed": true
   },
   "outputs": [],
   "source": [
    "import tensorflow as tf\n",
    "import numpy as np\n",
    "import random\n",
    "\n",
    "import matplotlib.pyplot as plt"
   ]
  },
  {
   "cell_type": "code",
   "execution_count": 156,
   "metadata": {},
   "outputs": [],
   "source": [
    "# points = np.array([(1,1), (2,1.5), (3,2), (3.5, 6), (4,2.5), (5, 3), (6,8)])\n",
    "points = np.array([(i + (random.random() - 0.5) * 50, i + (random.random() - 0.5) * 50) for i in range(100)])\n",
    "\n",
    "xs = points[:, 0]\n",
    "xs = np.reshape(xs, (len(xs), 1))\n",
    "ys = points[:, 1]"
   ]
  },
  {
   "cell_type": "code",
   "execution_count": 157,
   "metadata": {},
   "outputs": [],
   "source": [
    "x = tf.placeholder(tf.float32, (None, 1))\n",
    "y = tf.placeholder(tf.float32, (None))\n",
    "w = tf.Variable(tf.truncated_normal([1, 1]))\n",
    "b = tf.Variable(tf.truncated_normal([1]))\n",
    "\n",
    "init = tf.global_variables_initializer()"
   ]
  },
  {
   "cell_type": "code",
   "execution_count": 158,
   "metadata": {},
   "outputs": [
    {
     "data": {
      "image/png": "[encoded data removed]",
      "text/plain": [
       "<matplotlib.figure.Figure at 0x117668278>"
      ]
     },
     "metadata": {},
     "output_type": "display_data"
    }
   ],
   "source": [
    "plt.scatter(xs, ys)\n",
    "plt.show()"
   ]
  },
  {
   "cell_type": "code",
   "execution_count": 159,
   "metadata": {},
   "outputs": [],
   "source": [
    "learning_rate = 0.00001\n",
    "num_epochs = 100\n",
    "\n",
    "h = tf.matmul(x, w)\n",
    "loss = tf.reduce_mean(tf.square(h - y))\n",
    "\n",
    "training_operation = tf.train.GradientDescentOptimizer(learning_rate).minimize(loss)"
   ]
  },
  {
   "cell_type": "code",
   "execution_count": 160,
   "metadata": {},
   "outputs": [
    {
     "name": "stdout",
     "output_type": "stream",
     "text": [
      "0: 2263.715087890625\n",
      "1: 2198.773193359375\n",
      "2: 2142.13525390625\n",
      "3: 2092.736328125\n",
      "4: 2049.6533203125\n",
      "5: 2012.076416015625\n",
      "6: 1979.3038330078125\n",
      "7: 1950.719970703125\n",
      "8: 1925.791748046875\n",
      "9: 1904.049560546875\n",
      "10: 1885.0867919921875\n",
      "11: 1868.5479736328125\n",
      "12: 1854.1241455078125\n",
      "13: 1841.5423583984375\n",
      "14: 1830.5701904296875\n",
      "15: 1821.00244140625\n",
      "16: 1812.656005859375\n",
      "17: 1805.3768310546875\n",
      "18: 1799.0272216796875\n",
      "19: 1793.4908447265625\n",
      "20: 1788.6619873046875\n",
      "21: 1784.449951171875\n",
      "22: 1780.7760009765625\n",
      "23: 1777.5716552734375\n",
      "24: 1774.77880859375\n",
      "25: 1772.3408203125\n",
      "26: 1770.2149658203125\n",
      "27: 1768.362060546875\n",
      "28: 1766.7440185546875\n",
      "29: 1765.3343505859375\n",
      "30: 1764.1043701171875\n",
      "31: 1763.0322265625\n",
      "32: 1762.0980224609375\n",
      "33: 1761.280029296875\n",
      "34: 1760.56884765625\n",
      "35: 1759.94921875\n",
      "36: 1759.4068603515625\n",
      "37: 1758.9344482421875\n",
      "38: 1758.5216064453125\n",
      "39: 1758.1641845703125\n",
      "40: 1757.8511962890625\n",
      "41: 1757.578369140625\n",
      "42: 1757.3387451171875\n",
      "43: 1757.1328125\n",
      "44: 1756.950439453125\n",
      "45: 1756.7916259765625\n",
      "46: 1756.65478515625\n",
      "47: 1756.5340576171875\n",
      "48: 1756.43017578125\n",
      "49: 1756.337646484375\n",
      "50: 1756.2591552734375\n",
      "51: 1756.1883544921875\n",
      "52: 1756.1265869140625\n",
      "53: 1756.0745849609375\n",
      "54: 1756.02880859375\n",
      "55: 1755.9871826171875\n",
      "56: 1755.95361328125\n",
      "57: 1755.9232177734375\n",
      "58: 1755.8963623046875\n",
      "59: 1755.8731689453125\n",
      "60: 1755.851806640625\n",
      "61: 1755.8343505859375\n",
      "62: 1755.819580078125\n",
      "63: 1755.806396484375\n",
      "64: 1755.79443359375\n",
      "65: 1755.7838134765625\n",
      "66: 1755.7744140625\n",
      "67: 1755.766845703125\n",
      "68: 1755.7606201171875\n",
      "69: 1755.7547607421875\n",
      "70: 1755.7496337890625\n",
      "71: 1755.7447509765625\n",
      "72: 1755.740234375\n",
      "73: 1755.7374267578125\n",
      "74: 1755.733154296875\n",
      "75: 1755.7315673828125\n",
      "76: 1755.728759765625\n",
      "77: 1755.7281494140625\n",
      "78: 1755.7255859375\n",
      "79: 1755.724365234375\n",
      "80: 1755.722412109375\n",
      "81: 1755.7218017578125\n",
      "82: 1755.719970703125\n",
      "83: 1755.71875\n",
      "84: 1755.7196044921875\n",
      "85: 1755.718017578125\n",
      "86: 1755.71875\n",
      "87: 1755.7183837890625\n",
      "88: 1755.7176513671875\n",
      "89: 1755.7164306640625\n",
      "90: 1755.71484375\n",
      "91: 1755.7176513671875\n",
      "92: 1755.716796875\n",
      "93: 1755.7164306640625\n",
      "94: 1755.71484375\n",
      "95: 1755.7152099609375\n",
      "96: 1755.7139892578125\n",
      "97: 1755.71435546875\n",
      "98: 1755.71484375\n",
      "99: 1755.7154541015625\n"
     ]
    }
   ],
   "source": [
    "sess = tf.Session()\n",
    "sess.run(init)\n",
    "\n",
    "for epoch in range(num_epochs):\n",
    "  _, current_loss, ws, bs = sess.run([training_operation, loss, w, b], feed_dict={ x:xs, y:ys })\n",
    "  print(f\"{epoch}: {current_loss}\")"
   ]
  },
  {
   "cell_type": "code",
   "execution_count": 161,
   "metadata": {},
   "outputs": [
    {
     "name": "stdout",
     "output_type": "stream",
     "text": [
      "[[ 0.74630481]] [-0.13739151]\n"
     ]
    },
    {
     "data": {
      "image/png": "[encoded data removed]",
      "text/plain": [
       "<matplotlib.figure.Figure at 0x1169adc18>"
      ]
     },
     "metadata": {},
     "output_type": "display_data"
    }
   ],
   "source": [
    "test_xs = [[xs.min()], [xs.max()]]\n",
    "predicted_ys = sess.run(h, feed_dict={ x: test_xs })\n",
    "\n",
    "plt.scatter(xs, ys)\n",
    "print(ws, bs)\n",
    "\n",
    "plt.plot(test_xs, predicted_ys, 'k--')\n",
    "plt.show()\n",
    "\n",
    "# sess.close()"
   ]
  },
  {
   "cell_type": "code",
   "execution_count": null,
   "metadata": {
    "collapsed": true
   },
   "outputs": [],
   "source": []
  }
 ],
 "metadata": {
  "kernelspec": {
   "display_name": "Python 3",
   "language": "python",
   "name": "python3"
  },
  "language_info": {
   "codemirror_mode": {
    "name": "ipython",
    "version": 3
   },
   "file_extension": ".py",
   "mimetype": "text/x-python",
   "name": "python",
   "nbconvert_exporter": "python",
   "pygments_lexer": "ipython3",
   "version": "3.6.1"
  }
 },
 "nbformat": 4,
 "nbformat_minor": 2
}
